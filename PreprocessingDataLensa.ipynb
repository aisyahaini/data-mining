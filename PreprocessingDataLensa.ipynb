{
  "nbformat": 4,
  "nbformat_minor": 0,
  "metadata": {
    "colab": {
      "provenance": [],
      "authorship_tag": "ABX9TyOteDLM2ZKLAfvH+TBRUj+j",
      "include_colab_link": true
    },
    "kernelspec": {
      "name": "python3",
      "display_name": "Python 3"
    },
    "language_info": {
      "name": "python"
    }
  },
  "cells": [
    {
      "cell_type": "markdown",
      "metadata": {
        "id": "view-in-github",
        "colab_type": "text"
      },
      "source": [
        "<a href=\"https://colab.research.google.com/github/aisyahaini/data-mining/blob/main/PreprocessingDataLensa.ipynb\" target=\"_parent\"><img src=\"https://colab.research.google.com/assets/colab-badge.svg\" alt=\"Open In Colab\"/></a>"
      ]
    },
    {
      "cell_type": "markdown",
      "source": [
        "Aisyah Nuraini\n",
        "A11.2022.14161\n",
        "A11.43UG1\n",
        "Data Mining"
      ],
      "metadata": {
        "id": "X6uepUAvTOn1"
      }
    },
    {
      "cell_type": "code",
      "source": [
        "#untuk menampilkan packages yang telah ter-install di lingkungan python\n",
        "pip list"
      ],
      "metadata": {
        "colab": {
          "base_uri": "https://localhost:8080/"
        },
        "id": "WZ3sawanI1gv",
        "outputId": "77197ef9-61cf-4359-823f-cda161201828"
      },
      "execution_count": null,
      "outputs": [
        {
          "output_type": "stream",
          "name": "stdout",
          "text": [
            "Package                          Version\n",
            "-------------------------------- ---------------------\n",
            "absl-py                          1.4.0\n",
            "aiohttp                          3.8.6\n",
            "aiosignal                        1.3.1\n",
            "alabaster                        0.7.13\n",
            "albumentations                   1.3.1\n",
            "altair                           4.2.2\n",
            "anyio                            3.7.1\n",
            "appdirs                          1.4.4\n",
            "argon2-cffi                      23.1.0\n",
            "argon2-cffi-bindings             21.2.0\n",
            "array-record                     0.4.1\n",
            "arviz                            0.15.1\n",
            "astropy                          5.3.4\n",
            "astunparse                       1.6.3\n",
            "async-timeout                    4.0.3\n",
            "attrs                            23.1.0\n",
            "audioread                        3.0.1\n",
            "autograd                         1.6.2\n",
            "Babel                            2.13.0\n",
            "backcall                         0.2.0\n",
            "beautifulsoup4                   4.11.2\n",
            "bleach                           6.1.0\n",
            "blinker                          1.4\n",
            "blis                             0.7.11\n",
            "blosc2                           2.0.0\n",
            "bokeh                            3.2.2\n",
            "bqplot                           0.12.40\n",
            "branca                           0.6.0\n",
            "build                            1.0.3\n",
            "CacheControl                     0.13.1\n",
            "cachetools                       5.3.1\n",
            "catalogue                        2.0.10\n",
            "certifi                          2023.7.22\n",
            "cffi                             1.16.0\n",
            "chardet                          5.2.0\n",
            "charset-normalizer               3.3.0\n",
            "chex                             0.1.7\n",
            "click                            8.1.7\n",
            "click-plugins                    1.1.1\n",
            "cligj                            0.7.2\n",
            "cloudpickle                      2.2.1\n",
            "cmake                            3.27.6\n",
            "cmdstanpy                        1.2.0\n",
            "colorcet                         3.0.1\n",
            "colorlover                       0.3.0\n",
            "colour                           0.1.5\n",
            "community                        1.0.0b1\n",
            "confection                       0.1.3\n",
            "cons                             0.4.6\n",
            "contextlib2                      21.6.0\n",
            "contourpy                        1.1.1\n",
            "convertdate                      2.4.0\n",
            "cryptography                     41.0.4\n",
            "cufflinks                        0.17.3\n",
            "cupy-cuda11x                     11.0.0\n",
            "cvxopt                           1.3.2\n",
            "cvxpy                            1.3.2\n",
            "cycler                           0.12.1\n",
            "cymem                            2.0.8\n",
            "Cython                           3.0.3\n",
            "dask                             2023.8.1\n",
            "datascience                      0.17.6\n",
            "db-dtypes                        1.1.1\n",
            "dbus-python                      1.2.18\n",
            "debugpy                          1.6.6\n",
            "decorator                        4.4.2\n",
            "defusedxml                       0.7.1\n",
            "distributed                      2023.8.1\n",
            "distro                           1.7.0\n",
            "dlib                             19.24.2\n",
            "dm-tree                          0.1.8\n",
            "docutils                         0.18.1\n",
            "dopamine-rl                      4.0.6\n",
            "duckdb                           0.8.1\n",
            "earthengine-api                  0.1.374\n",
            "easydict                         1.10\n",
            "ecos                             2.0.12\n",
            "editdistance                     0.6.2\n",
            "eerepr                           0.0.4\n",
            "en-core-web-sm                   3.6.0\n",
            "entrypoints                      0.4\n",
            "ephem                            4.1.5\n",
            "et-xmlfile                       1.1.0\n",
            "etils                            1.5.0\n",
            "etuples                          0.3.9\n",
            "exceptiongroup                   1.1.3\n",
            "fastai                           2.7.12\n",
            "fastcore                         1.5.29\n",
            "fastdownload                     0.0.7\n",
            "fastjsonschema                   2.18.1\n",
            "fastprogress                     1.0.3\n",
            "fastrlock                        0.8.2\n",
            "filelock                         3.12.4\n",
            "Fiona                            1.9.4.post1\n",
            "firebase-admin                   5.3.0\n",
            "Flask                            2.2.5\n",
            "flatbuffers                      23.5.26\n",
            "flax                             0.7.4\n",
            "folium                           0.14.0\n",
            "fonttools                        4.43.1\n",
            "frozendict                       2.3.8\n",
            "frozenlist                       1.4.0\n",
            "fsspec                           2023.6.0\n",
            "future                           0.18.3\n",
            "gast                             0.4.0\n",
            "gcsfs                            2023.6.0\n",
            "GDAL                             3.4.3\n",
            "gdown                            4.6.6\n",
            "geemap                           0.28.2\n",
            "gensim                           4.3.2\n",
            "geocoder                         1.38.1\n",
            "geographiclib                    2.0\n",
            "geopandas                        0.13.2\n",
            "geopy                            2.3.0\n",
            "gin-config                       0.5.0\n",
            "glob2                            0.7\n",
            "google                           2.0.3\n",
            "google-api-core                  2.11.1\n",
            "google-api-python-client         2.84.0\n",
            "google-auth                      2.17.3\n",
            "google-auth-httplib2             0.1.1\n",
            "google-auth-oauthlib             1.0.0\n",
            "google-cloud-bigquery            3.10.0\n",
            "google-cloud-bigquery-connection 1.12.1\n",
            "google-cloud-bigquery-storage    2.22.0\n",
            "google-cloud-core                2.3.3\n",
            "google-cloud-datastore           2.15.2\n",
            "google-cloud-firestore           2.11.1\n",
            "google-cloud-functions           1.13.3\n",
            "google-cloud-language            2.9.1\n",
            "google-cloud-storage             2.8.0\n",
            "google-cloud-translate           3.11.3\n",
            "google-colab                     1.0.0\n",
            "google-crc32c                    1.5.0\n",
            "google-pasta                     0.2.0\n",
            "google-resumable-media           2.6.0\n",
            "googleapis-common-protos         1.60.0\n",
            "googledrivedownloader            0.4\n",
            "graphviz                         0.20.1\n",
            "greenlet                         3.0.0\n",
            "grpc-google-iam-v1               0.12.6\n",
            "grpcio                           1.59.0\n",
            "grpcio-status                    1.48.2\n",
            "gspread                          3.4.2\n",
            "gspread-dataframe                3.3.1\n",
            "gym                              0.25.2\n",
            "gym-notices                      0.0.8\n",
            "h5netcdf                         1.2.0\n",
            "h5py                             3.9.0\n",
            "holidays                         0.34\n",
            "holoviews                        1.17.1\n",
            "html5lib                         1.1\n",
            "httpimport                       1.3.1\n",
            "httplib2                         0.22.0\n",
            "humanize                         4.7.0\n",
            "hyperopt                         0.2.7\n",
            "idna                             3.4\n",
            "imageio                          2.31.5\n",
            "imageio-ffmpeg                   0.4.9\n",
            "imagesize                        1.4.1\n",
            "imbalanced-learn                 0.10.1\n",
            "imgaug                           0.4.0\n",
            "importlib-metadata               6.8.0\n",
            "importlib-resources              6.1.0\n",
            "imutils                          0.5.4\n",
            "inflect                          7.0.0\n",
            "iniconfig                        2.0.0\n",
            "intel-openmp                     2023.2.0\n",
            "ipyevents                        2.0.2\n",
            "ipyfilechooser                   0.6.0\n",
            "ipykernel                        5.5.6\n",
            "ipyleaflet                       0.17.4\n",
            "ipython                          7.34.0\n",
            "ipython-genutils                 0.2.0\n",
            "ipython-sql                      0.5.0\n",
            "ipytree                          0.2.2\n",
            "ipywidgets                       7.7.1\n",
            "itsdangerous                     2.1.2\n",
            "jax                              0.4.16\n",
            "jaxlib                           0.4.16+cuda11.cudnn86\n",
            "jeepney                          0.7.1\n",
            "jieba                            0.42.1\n",
            "Jinja2                           3.1.2\n",
            "joblib                           1.3.2\n",
            "jsonpickle                       3.0.2\n",
            "jsonschema                       4.19.1\n",
            "jsonschema-specifications        2023.7.1\n",
            "jupyter-client                   6.1.12\n",
            "jupyter-console                  6.1.0\n",
            "jupyter_core                     5.3.2\n",
            "jupyter-server                   1.24.0\n",
            "jupyterlab-pygments              0.2.2\n",
            "jupyterlab-widgets               3.0.9\n",
            "kaggle                           1.5.16\n",
            "keras                            2.13.1\n",
            "keyring                          23.5.0\n",
            "kiwisolver                       1.4.5\n",
            "langcodes                        3.3.0\n",
            "launchpadlib                     1.10.16\n",
            "lazr.restfulclient               0.14.4\n",
            "lazr.uri                         1.0.6\n",
            "lazy_loader                      0.3\n",
            "libclang                         16.0.6\n",
            "librosa                          0.10.1\n",
            "lightgbm                         4.0.0\n",
            "linkify-it-py                    2.0.2\n",
            "lit                              17.0.2\n",
            "llvmlite                         0.39.1\n",
            "locket                           1.0.0\n",
            "logical-unification              0.4.6\n",
            "LunarCalendar                    0.0.9\n",
            "lxml                             4.9.3\n",
            "malloy                           2023.1056\n",
            "Markdown                         3.5\n",
            "markdown-it-py                   3.0.0\n",
            "MarkupSafe                       2.1.3\n",
            "matplotlib                       3.7.1\n",
            "matplotlib-inline                0.1.6\n",
            "matplotlib-venn                  0.11.9\n",
            "mdit-py-plugins                  0.4.0\n",
            "mdurl                            0.1.2\n",
            "miniKanren                       1.0.3\n",
            "missingno                        0.5.2\n",
            "mistune                          0.8.4\n",
            "mizani                           0.9.3\n",
            "mkl                              2023.2.0\n",
            "ml-dtypes                        0.3.1\n",
            "mlxtend                          0.22.0\n",
            "more-itertools                   10.1.0\n",
            "moviepy                          1.0.3\n",
            "mpmath                           1.3.0\n",
            "msgpack                          1.0.7\n",
            "multidict                        6.0.4\n",
            "multipledispatch                 1.0.0\n",
            "multitasking                     0.0.11\n",
            "murmurhash                       1.0.10\n",
            "music21                          9.1.0\n",
            "natsort                          8.4.0\n",
            "nbclassic                        1.0.0\n",
            "nbclient                         0.8.0\n",
            "nbconvert                        6.5.4\n",
            "nbformat                         5.9.2\n",
            "nest-asyncio                     1.5.8\n",
            "networkx                         3.1\n",
            "nibabel                          4.0.2\n",
            "nltk                             3.8.1\n",
            "notebook                         6.5.5\n",
            "notebook_shim                    0.2.3\n",
            "numba                            0.56.4\n",
            "numexpr                          2.8.7\n",
            "numpy                            1.23.5\n",
            "oauth2client                     4.1.3\n",
            "oauthlib                         3.2.2\n",
            "opencv-contrib-python            4.8.0.76\n",
            "opencv-python                    4.8.0.76\n",
            "opencv-python-headless           4.8.1.78\n",
            "openpyxl                         3.1.2\n",
            "opt-einsum                       3.3.0\n",
            "optax                            0.1.7\n",
            "orbax-checkpoint                 0.4.1\n",
            "osqp                             0.6.2.post8\n",
            "packaging                        23.2\n",
            "pandas                           1.5.3\n",
            "pandas-datareader                0.10.0\n",
            "pandas-gbq                       0.17.9\n",
            "pandocfilters                    1.5.0\n",
            "panel                            1.2.3\n",
            "param                            1.13.0\n",
            "parso                            0.8.3\n",
            "partd                            1.4.1\n",
            "pathlib                          1.0.1\n",
            "pathy                            0.10.2\n",
            "patsy                            0.5.3\n",
            "peewee                           3.16.3\n",
            "pexpect                          4.8.0\n",
            "pickleshare                      0.7.5\n",
            "Pillow                           9.4.0\n",
            "pip                              23.1.2\n",
            "pip-tools                        6.13.0\n",
            "platformdirs                     3.11.0\n",
            "plotly                           5.15.0\n",
            "plotnine                         0.12.3\n",
            "pluggy                           1.3.0\n",
            "polars                           0.17.3\n",
            "pooch                            1.7.0\n",
            "portpicker                       1.5.2\n",
            "prefetch-generator               1.0.3\n",
            "preshed                          3.0.9\n",
            "prettytable                      3.9.0\n",
            "proglog                          0.1.10\n",
            "progressbar2                     4.2.0\n",
            "prometheus-client                0.17.1\n",
            "promise                          2.3\n",
            "prompt-toolkit                   3.0.39\n",
            "prophet                          1.1.4\n",
            "proto-plus                       1.22.3\n",
            "protobuf                         3.20.3\n",
            "psutil                           5.9.5\n",
            "psycopg2                         2.9.9\n",
            "ptyprocess                       0.7.0\n",
            "py-cpuinfo                       9.0.0\n",
            "py4j                             0.10.9.7\n",
            "pyarrow                          9.0.0\n",
            "pyasn1                           0.5.0\n",
            "pyasn1-modules                   0.3.0\n",
            "pycocotools                      2.0.7\n",
            "pycparser                        2.21\n",
            "pyct                             0.5.0\n",
            "pydantic                         1.10.13\n",
            "pydata-google-auth               1.8.2\n",
            "pydot                            1.4.2\n",
            "pydot-ng                         2.0.0\n",
            "pydotplus                        2.0.2\n",
            "PyDrive                          1.3.1\n",
            "PyDrive2                         1.6.3\n",
            "pyerfa                           2.0.0.3\n",
            "pygame                           2.5.2\n",
            "Pygments                         2.16.1\n",
            "PyGObject                        3.42.1\n",
            "PyJWT                            2.3.0\n",
            "pymc                             5.7.2\n",
            "PyMeeus                          0.5.12\n",
            "pymystem3                        0.2.0\n",
            "PyOpenGL                         3.1.7\n",
            "pyOpenSSL                        23.2.0\n",
            "pyparsing                        3.1.1\n",
            "pyperclip                        1.8.2\n",
            "pyproj                           3.6.1\n",
            "pyproject_hooks                  1.0.0\n",
            "pyshp                            2.3.1\n",
            "PySocks                          1.7.1\n",
            "pytensor                         2.14.2\n",
            "pytest                           7.4.2\n",
            "python-apt                       0.0.0\n",
            "python-box                       7.1.1\n",
            "python-dateutil                  2.8.2\n",
            "python-louvain                   0.16\n",
            "python-slugify                   8.0.1\n",
            "python-utils                     3.8.1\n",
            "pytz                             2023.3.post1\n",
            "pyviz_comms                      3.0.0\n",
            "PyWavelets                       1.4.1\n",
            "PyYAML                           6.0.1\n",
            "pyzmq                            23.2.1\n",
            "qdldl                            0.1.7.post0\n",
            "qudida                           0.0.4\n",
            "ratelim                          0.1.6\n",
            "referencing                      0.30.2\n",
            "regex                            2023.6.3\n",
            "requests                         2.31.0\n",
            "requests-oauthlib                1.3.1\n",
            "requirements-parser              0.5.0\n",
            "rich                             13.6.0\n",
            "rpds-py                          0.10.4\n",
            "rpy2                             3.4.2\n",
            "rsa                              4.9\n",
            "scikit-image                     0.19.3\n",
            "scikit-learn                     1.2.2\n",
            "scipy                            1.11.3\n",
            "scooby                           0.7.4\n",
            "scs                              3.2.3\n",
            "seaborn                          0.12.2\n",
            "SecretStorage                    3.3.1\n",
            "Send2Trash                       1.8.2\n",
            "setuptools                       67.7.2\n",
            "shapely                          2.0.1\n",
            "six                              1.16.0\n",
            "sklearn-pandas                   2.2.0\n",
            "smart-open                       6.4.0\n",
            "sniffio                          1.3.0\n",
            "snowballstemmer                  2.2.0\n",
            "sortedcontainers                 2.4.0\n",
            "soundfile                        0.12.1\n",
            "soupsieve                        2.5\n",
            "soxr                             0.3.7\n",
            "spacy                            3.6.1\n",
            "spacy-legacy                     3.0.12\n",
            "spacy-loggers                    1.0.5\n",
            "Sphinx                           5.0.2\n",
            "sphinxcontrib-applehelp          1.0.7\n",
            "sphinxcontrib-devhelp            1.0.5\n",
            "sphinxcontrib-htmlhelp           2.0.4\n",
            "sphinxcontrib-jsmath             1.0.1\n",
            "sphinxcontrib-qthelp             1.0.6\n",
            "sphinxcontrib-serializinghtml    1.1.9\n",
            "SQLAlchemy                       2.0.21\n",
            "sqlparse                         0.4.4\n",
            "srsly                            2.4.8\n",
            "stanio                           0.3.0\n",
            "statsmodels                      0.14.0\n",
            "sympy                            1.12\n",
            "tables                           3.8.0\n",
            "tabulate                         0.9.0\n",
            "tbb                              2021.10.0\n",
            "tblib                            2.0.0\n",
            "tenacity                         8.2.3\n",
            "tensorboard                      2.13.0\n",
            "tensorboard-data-server          0.7.1\n",
            "tensorflow                       2.13.0\n",
            "tensorflow-datasets              4.9.3\n",
            "tensorflow-estimator             2.13.0\n",
            "tensorflow-gcs-config            2.13.0\n",
            "tensorflow-hub                   0.15.0\n",
            "tensorflow-io-gcs-filesystem     0.34.0\n",
            "tensorflow-metadata              1.14.0\n",
            "tensorflow-probability           0.20.1\n",
            "tensorstore                      0.1.45\n",
            "termcolor                        2.3.0\n",
            "terminado                        0.17.1\n",
            "text-unidecode                   1.3\n",
            "textblob                         0.17.1\n",
            "tf-slim                          1.1.0\n",
            "thinc                            8.1.12\n",
            "threadpoolctl                    3.2.0\n",
            "tifffile                         2023.9.26\n",
            "tinycss2                         1.2.1\n",
            "toml                             0.10.2\n",
            "tomli                            2.0.1\n",
            "toolz                            0.12.0\n",
            "torch                            2.0.1+cu118\n",
            "torchaudio                       2.0.2+cu118\n",
            "torchdata                        0.6.1\n",
            "torchsummary                     1.5.1\n",
            "torchtext                        0.15.2\n",
            "torchvision                      0.15.2+cu118\n",
            "tornado                          6.3.2\n",
            "tqdm                             4.66.1\n",
            "traitlets                        5.7.1\n",
            "traittypes                       0.2.1\n",
            "triton                           2.0.0\n",
            "tweepy                           4.13.0\n",
            "typer                            0.9.0\n",
            "types-setuptools                 68.2.0.0\n",
            "typing_extensions                4.5.0\n",
            "tzlocal                          5.1\n",
            "uc-micro-py                      1.0.2\n",
            "uritemplate                      4.1.1\n",
            "urllib3                          2.0.6\n",
            "vega-datasets                    0.9.0\n",
            "wadllib                          1.3.6\n",
            "wasabi                           1.1.2\n",
            "wcwidth                          0.2.8\n",
            "webcolors                        1.13\n",
            "webencodings                     0.5.1\n",
            "websocket-client                 1.6.4\n",
            "Werkzeug                         3.0.0\n",
            "wheel                            0.41.2\n",
            "widgetsnbextension               3.6.6\n",
            "wordcloud                        1.9.2\n",
            "wrapt                            1.15.0\n",
            "xarray                           2023.7.0\n",
            "xarray-einstats                  0.6.0\n",
            "xgboost                          2.0.0\n",
            "xlrd                             2.0.1\n",
            "xyzservices                      2023.10.0\n",
            "yarl                             1.9.2\n",
            "yellowbrick                      1.5\n",
            "yfinance                         0.2.31\n",
            "zict                             3.0.0\n",
            "zipp                             3.17.0\n"
          ]
        }
      ]
    },
    {
      "cell_type": "code",
      "source": [
        "import numpy as np\n",
        "import matplotlib.pyplot as plt\n",
        "import pandas as pd"
      ],
      "metadata": {
        "id": "_0Aju9UGI6h0"
      },
      "execution_count": null,
      "outputs": []
    },
    {
      "cell_type": "markdown",
      "source": [
        "Numpy merupakan library python untuk komputasi matriks Matplotlib merupakan library python untuk presentasi data berupa grafik/plot Pandas untuk mengimport data dari luar seperti csv"
      ],
      "metadata": {
        "id": "XXgALUjJJC26"
      }
    },
    {
      "cell_type": "code",
      "source": [
        "dataset = pd.read_csv('missing_lens.csv')\n",
        "\n",
        "x = dataset.iloc[:,:-1].values\n",
        "y = dataset.iloc[:,-1].values"
      ],
      "metadata": {
        "id": "Axglz7JxJFai"
      },
      "execution_count": null,
      "outputs": []
    },
    {
      "cell_type": "code",
      "source": [
        "print(x)"
      ],
      "metadata": {
        "colab": {
          "base_uri": "https://localhost:8080/"
        },
        "id": "QnUavJWEJUat",
        "outputId": "e8319d4e-a4ee-44d8-9081-d95862640d4a"
      },
      "execution_count": null,
      "outputs": [
        {
          "output_type": "stream",
          "name": "stdout",
          "text": [
            "[['young' nan 'no' 'reduced']\n",
            " ['young' 'myope' 'no' 'normal']\n",
            " ['young' 'myope' 'yes' nan]\n",
            " ['young' 'myope' 'yes' 'normal']\n",
            " ['young' 'hypermetrope' 'no' 'reduced']\n",
            " ['young' nan 'no' 'normal']\n",
            " ['young' 'hypermetrope' 'yes' 'reduced']\n",
            " ['young' 'hypermetrope' nan 'normal']\n",
            " ['pre-presbyopic' 'myope' 'no' 'reduced']\n",
            " ['pre-presbyopic' 'myope' 'no' nan]\n",
            " ['pre-presbyopic' 'myope' 'yes' 'reduced']\n",
            " ['pre-presbyopic' nan 'yes' 'normal']\n",
            " ['pre-presbyopic' 'hypermetrope' 'no' 'reduced']\n",
            " ['pre-presbyopic' 'hypermetrope' 'no' nan]\n",
            " ['pre-presbyopic' 'hypermetrope' 'yes' 'reduced']\n",
            " ['pre-presbyopic' nan 'yes' 'normal']\n",
            " ['presbyopic' 'myope' 'no' 'reduced']\n",
            " ['presbyopic' 'myope' 'no' nan]\n",
            " ['presbyopic' 'myope' nan 'reduced']\n",
            " ['presbyopic' 'myope' 'yes' 'normal']\n",
            " ['presbyopic' nan 'no' 'reduced']\n",
            " ['presbyopic' 'hypermetrope' 'no' nan]\n",
            " ['presbyopic' 'hypermetrope' nan 'reduced']\n",
            " ['presbyopic' 'hypermetrope' 'yes' 'normal']]\n"
          ]
        }
      ]
    },
    {
      "cell_type": "code",
      "source": [
        "print(y)"
      ],
      "metadata": {
        "colab": {
          "base_uri": "https://localhost:8080/"
        },
        "id": "EQfvW9XZJY4X",
        "outputId": "02fab40d-6f73-41d5-9021-eb7b1133765e"
      },
      "execution_count": null,
      "outputs": [
        {
          "output_type": "stream",
          "name": "stdout",
          "text": [
            "['none' 'soft' 'none' 'hard' 'none' 'soft' 'none' 'hard' 'none' 'soft'\n",
            " 'none' 'hard' 'none' 'soft' 'none' 'none' 'none' 'none' 'none' 'hard'\n",
            " 'none' 'soft' 'none' 'none']\n"
          ]
        }
      ]
    },
    {
      "cell_type": "code",
      "source": [
        "#train_test_split didalamnya ada x sebagai dataset fitur, y sebagai dataset target\n",
        "#dibagi menjadi 2 yaitu data pelatihan (x_train dan y_train) dan data pengujian (x_test, y_test)\n",
        "from sklearn.model_selection import train_test_split\n",
        "\n",
        "#test_size untuk proporsi data yang dikirim ke data pengujian\n",
        "#random_state untuk mengontrol keacakan\n",
        "x_train, x_test, y_train, y_test = train_test_split(x,y,test_size=0.2,random_state=0)"
      ],
      "metadata": {
        "id": "ARV3AJrlJbzC"
      },
      "execution_count": null,
      "outputs": []
    },
    {
      "cell_type": "code",
      "source": [
        "print(x_train)"
      ],
      "metadata": {
        "colab": {
          "base_uri": "https://localhost:8080/"
        },
        "id": "sfjkNXxLKOD-",
        "outputId": "88937f16-f991-42cf-c081-df2d34e60fd4"
      },
      "execution_count": null,
      "outputs": [
        {
          "output_type": "stream",
          "name": "stdout",
          "text": [
            "[['young' 'myope' 'no' 'normal']\n",
            " ['pre-presbyopic' 'hypermetrope' 'no' nan]\n",
            " ['presbyopic' 'hypermetrope' 'yes' 'normal']\n",
            " ['presbyopic' 'myope' 'no' 'reduced']\n",
            " ['pre-presbyopic' 'myope' 'no' 'reduced']\n",
            " ['young' 'hypermetrope' 'yes' 'reduced']\n",
            " ['presbyopic' 'myope' 'no' nan]\n",
            " ['young' 'hypermetrope' 'no' 'reduced']\n",
            " ['young' 'myope' 'yes' nan]\n",
            " ['young' nan 'no' 'normal']\n",
            " ['presbyopic' 'myope' nan 'reduced']\n",
            " ['pre-presbyopic' 'myope' 'no' nan]\n",
            " ['young' 'hypermetrope' nan 'normal']\n",
            " ['presbyopic' 'myope' 'yes' 'normal']\n",
            " ['young' 'myope' 'yes' 'normal']\n",
            " ['young' nan 'no' 'reduced']\n",
            " ['presbyopic' 'hypermetrope' 'no' nan]\n",
            " ['pre-presbyopic' nan 'yes' 'normal']\n",
            " ['pre-presbyopic' 'hypermetrope' 'no' 'reduced']]\n"
          ]
        }
      ]
    },
    {
      "cell_type": "code",
      "source": [
        "print(x_test)"
      ],
      "metadata": {
        "colab": {
          "base_uri": "https://localhost:8080/"
        },
        "id": "Kg4xW6amL09i",
        "outputId": "76927eba-4d62-4133-d8b6-35a60c061242"
      },
      "execution_count": null,
      "outputs": [
        {
          "output_type": "stream",
          "name": "stdout",
          "text": [
            "[['pre-presbyopic' nan 'yes' 'normal']\n",
            " ['pre-presbyopic' 'myope' 'yes' 'reduced']\n",
            " ['presbyopic' 'hypermetrope' nan 'reduced']\n",
            " ['pre-presbyopic' 'hypermetrope' 'yes' 'reduced']\n",
            " ['presbyopic' nan 'no' 'reduced']]\n"
          ]
        }
      ]
    },
    {
      "cell_type": "code",
      "source": [
        "from sklearn.impute import SimpleImputer\n",
        "imputer = SimpleImputer(missing_values=np.nan, strategy=\"most_frequent\")\n",
        "imputer.fit(x[:, 1:4])\n",
        "x[:, 1:4] = imputer.transform(x[:, 1:4])"
      ],
      "metadata": {
        "id": "-1CDJ7BpL5yg"
      },
      "execution_count": null,
      "outputs": []
    },
    {
      "cell_type": "code",
      "source": [
        "print(x)"
      ],
      "metadata": {
        "colab": {
          "base_uri": "https://localhost:8080/"
        },
        "id": "0_OVkNMXL_A0",
        "outputId": "82efc06e-f81b-4140-d95a-b8e11ce03472"
      },
      "execution_count": null,
      "outputs": [
        {
          "output_type": "stream",
          "name": "stdout",
          "text": [
            "[['young' 'myope' 'no' 'reduced']\n",
            " ['young' 'myope' 'no' 'normal']\n",
            " ['young' 'myope' 'yes' 'reduced']\n",
            " ['young' 'myope' 'yes' 'normal']\n",
            " ['young' 'hypermetrope' 'no' 'reduced']\n",
            " ['young' 'myope' 'no' 'normal']\n",
            " ['young' 'hypermetrope' 'yes' 'reduced']\n",
            " ['young' 'hypermetrope' 'no' 'normal']\n",
            " ['pre-presbyopic' 'myope' 'no' 'reduced']\n",
            " ['pre-presbyopic' 'myope' 'no' 'reduced']\n",
            " ['pre-presbyopic' 'myope' 'yes' 'reduced']\n",
            " ['pre-presbyopic' 'myope' 'yes' 'normal']\n",
            " ['pre-presbyopic' 'hypermetrope' 'no' 'reduced']\n",
            " ['pre-presbyopic' 'hypermetrope' 'no' 'reduced']\n",
            " ['pre-presbyopic' 'hypermetrope' 'yes' 'reduced']\n",
            " ['pre-presbyopic' 'myope' 'yes' 'normal']\n",
            " ['presbyopic' 'myope' 'no' 'reduced']\n",
            " ['presbyopic' 'myope' 'no' 'reduced']\n",
            " ['presbyopic' 'myope' 'no' 'reduced']\n",
            " ['presbyopic' 'myope' 'yes' 'normal']\n",
            " ['presbyopic' 'myope' 'no' 'reduced']\n",
            " ['presbyopic' 'hypermetrope' 'no' 'reduced']\n",
            " ['presbyopic' 'hypermetrope' 'no' 'reduced']\n",
            " ['presbyopic' 'hypermetrope' 'yes' 'normal']]\n"
          ]
        }
      ]
    },
    {
      "cell_type": "code",
      "source": [
        "from sklearn.compose import ColumnTransformer\n",
        "ct = ColumnTransformer(transformers=[('encoder', 'passthrough', [0])], remainder='passthrough')\n",
        "x = np.array(ct.fit_transform(x))"
      ],
      "metadata": {
        "id": "88-Cp-XIMDrV"
      },
      "execution_count": null,
      "outputs": []
    },
    {
      "cell_type": "code",
      "source": [
        "print(x)"
      ],
      "metadata": {
        "colab": {
          "base_uri": "https://localhost:8080/"
        },
        "id": "SPmubSjdMHxi",
        "outputId": "0a29b833-7f83-4319-c1d8-ff3f1d3c9eaa"
      },
      "execution_count": null,
      "outputs": [
        {
          "output_type": "stream",
          "name": "stdout",
          "text": [
            "[['young' 'myope' 'no' 'reduced']\n",
            " ['young' 'myope' 'no' 'normal']\n",
            " ['young' 'myope' 'yes' 'reduced']\n",
            " ['young' 'myope' 'yes' 'normal']\n",
            " ['young' 'hypermetrope' 'no' 'reduced']\n",
            " ['young' 'myope' 'no' 'normal']\n",
            " ['young' 'hypermetrope' 'yes' 'reduced']\n",
            " ['young' 'hypermetrope' 'no' 'normal']\n",
            " ['pre-presbyopic' 'myope' 'no' 'reduced']\n",
            " ['pre-presbyopic' 'myope' 'no' 'reduced']\n",
            " ['pre-presbyopic' 'myope' 'yes' 'reduced']\n",
            " ['pre-presbyopic' 'myope' 'yes' 'normal']\n",
            " ['pre-presbyopic' 'hypermetrope' 'no' 'reduced']\n",
            " ['pre-presbyopic' 'hypermetrope' 'no' 'reduced']\n",
            " ['pre-presbyopic' 'hypermetrope' 'yes' 'reduced']\n",
            " ['pre-presbyopic' 'myope' 'yes' 'normal']\n",
            " ['presbyopic' 'myope' 'no' 'reduced']\n",
            " ['presbyopic' 'myope' 'no' 'reduced']\n",
            " ['presbyopic' 'myope' 'no' 'reduced']\n",
            " ['presbyopic' 'myope' 'yes' 'normal']\n",
            " ['presbyopic' 'myope' 'no' 'reduced']\n",
            " ['presbyopic' 'hypermetrope' 'no' 'reduced']\n",
            " ['presbyopic' 'hypermetrope' 'no' 'reduced']\n",
            " ['presbyopic' 'hypermetrope' 'yes' 'normal']]\n"
          ]
        }
      ]
    },
    {
      "cell_type": "code",
      "source": [
        "from sklearn.preprocessing import LabelEncoder\n",
        "le = LabelEncoder()\n",
        "y = le.fit_transform(y)"
      ],
      "metadata": {
        "id": "iMr_F6fMMLbE"
      },
      "execution_count": null,
      "outputs": []
    },
    {
      "cell_type": "code",
      "source": [
        "print(y)"
      ],
      "metadata": {
        "colab": {
          "base_uri": "https://localhost:8080/"
        },
        "id": "KCjZCXF6MNry",
        "outputId": "9f318845-718a-4e97-fce3-ddc5ff9eca1f"
      },
      "execution_count": null,
      "outputs": [
        {
          "output_type": "stream",
          "name": "stdout",
          "text": [
            "[1 2 1 0 1 2 1 0 1 2 1 0 1 2 1 1 1 1 1 0 1 2 1 1]\n"
          ]
        }
      ]
    },
    {
      "cell_type": "code",
      "source": [
        "from sklearn.model_selection import train_test_split\n",
        "x_train, x_test, y_train, y_test = train_test_split(x, y, test_size = 0.2, random_state = 1)"
      ],
      "metadata": {
        "id": "uh_eKXkZMQTc"
      },
      "execution_count": null,
      "outputs": []
    },
    {
      "cell_type": "code",
      "source": [
        "print(x_train)"
      ],
      "metadata": {
        "colab": {
          "base_uri": "https://localhost:8080/"
        },
        "id": "0bsPDGWDMVJm",
        "outputId": "5c8f8566-7114-4747-b6bf-7606d9c7b951"
      },
      "execution_count": null,
      "outputs": [
        {
          "output_type": "stream",
          "name": "stdout",
          "text": [
            "[['presbyopic' 'myope' 'no' 'reduced']\n",
            " ['pre-presbyopic' 'myope' 'yes' 'reduced']\n",
            " ['young' 'hypermetrope' 'no' 'reduced']\n",
            " ['young' 'myope' 'yes' 'reduced']\n",
            " ['presbyopic' 'myope' 'yes' 'normal']\n",
            " ['young' 'hypermetrope' 'yes' 'reduced']\n",
            " ['young' 'hypermetrope' 'no' 'normal']\n",
            " ['presbyopic' 'hypermetrope' 'no' 'reduced']\n",
            " ['young' 'myope' 'no' 'normal']\n",
            " ['presbyopic' 'myope' 'no' 'reduced']\n",
            " ['young' 'myope' 'no' 'reduced']\n",
            " ['pre-presbyopic' 'myope' 'yes' 'normal']\n",
            " ['presbyopic' 'hypermetrope' 'yes' 'normal']\n",
            " ['presbyopic' 'hypermetrope' 'no' 'reduced']\n",
            " ['pre-presbyopic' 'myope' 'no' 'reduced']\n",
            " ['pre-presbyopic' 'myope' 'no' 'reduced']\n",
            " ['pre-presbyopic' 'hypermetrope' 'no' 'reduced']\n",
            " ['pre-presbyopic' 'myope' 'yes' 'normal']\n",
            " ['young' 'myope' 'no' 'normal']]\n"
          ]
        }
      ]
    },
    {
      "cell_type": "code",
      "source": [
        "print(x_test)"
      ],
      "metadata": {
        "colab": {
          "base_uri": "https://localhost:8080/"
        },
        "id": "RNGeGDBvMacC",
        "outputId": "52cd1151-d1ee-4b75-edce-beb6cabc65ba"
      },
      "execution_count": null,
      "outputs": [
        {
          "output_type": "stream",
          "name": "stdout",
          "text": [
            "[['pre-presbyopic' 'hypermetrope' 'no' 'reduced']\n",
            " ['presbyopic' 'myope' 'no' 'reduced']\n",
            " ['young' 'myope' 'yes' 'normal']\n",
            " ['pre-presbyopic' 'hypermetrope' 'yes' 'reduced']\n",
            " ['presbyopic' 'myope' 'no' 'reduced']]\n"
          ]
        }
      ]
    },
    {
      "cell_type": "code",
      "source": [
        "print(y_train)"
      ],
      "metadata": {
        "colab": {
          "base_uri": "https://localhost:8080/"
        },
        "id": "FDg6LPxZMd3B",
        "outputId": "b7472daa-ade1-48dd-e0e3-e4ce44bb87b1"
      },
      "execution_count": null,
      "outputs": [
        {
          "output_type": "stream",
          "name": "stdout",
          "text": [
            "[1 1 1 1 0 1 0 2 2 1 1 1 1 1 2 1 1 0 2]\n"
          ]
        }
      ]
    },
    {
      "cell_type": "code",
      "source": [
        "print(y_test)"
      ],
      "metadata": {
        "colab": {
          "base_uri": "https://localhost:8080/"
        },
        "id": "9lGazX3hMg8i",
        "outputId": "6ffa59fb-373b-4ec3-e3f4-b0391d7b12f3"
      },
      "execution_count": null,
      "outputs": [
        {
          "output_type": "stream",
          "name": "stdout",
          "text": [
            "[2 1 0 1 1]\n"
          ]
        }
      ]
    },
    {
      "cell_type": "markdown",
      "source": [
        "Data training nantinya akan digunakan untuk melatih algoritma dalam mencari model yang sesuai, sedangkan data testing akan dipakai untuk menguji dan mengetahui performa model yang didapatkan pada tahapan testing.\n"
      ],
      "metadata": {
        "id": "S8cvNA6NMtmQ"
      }
    },
    {
      "cell_type": "code",
      "source": [
        "# Jika x_train sebelumnya memiliki kurang dari 4 kolom, tidak ada fitur yang tersisa setelah slicing ini\n",
        "x_train = x_train[:, 4:]"
      ],
      "metadata": {
        "id": "-xdWiPFgMj-U"
      },
      "execution_count": null,
      "outputs": []
    },
    {
      "cell_type": "code",
      "source": [
        "#x_train.shape untuk menampilkan bentuk dari suatu variabel atau array\n",
        "print(x_train.shape)"
      ],
      "metadata": {
        "colab": {
          "base_uri": "https://localhost:8080/"
        },
        "id": "Za3xNQLBO3v8",
        "outputId": "1351a26d-989b-483b-ab30-b3f5de9d8707"
      },
      "execution_count": null,
      "outputs": [
        {
          "output_type": "stream",
          "name": "stdout",
          "text": [
            "(19, 0)\n"
          ]
        }
      ]
    },
    {
      "cell_type": "code",
      "source": [
        "print(x_test)"
      ],
      "metadata": {
        "colab": {
          "base_uri": "https://localhost:8080/"
        },
        "id": "14ASp6gRNtId",
        "outputId": "27f09812-ad72-4a2b-c148-e6c502604a62"
      },
      "execution_count": null,
      "outputs": [
        {
          "output_type": "stream",
          "name": "stdout",
          "text": [
            "[['pre-presbyopic' 'hypermetrope' 'no' 'reduced']\n",
            " ['presbyopic' 'myope' 'no' 'reduced']\n",
            " ['young' 'myope' 'yes' 'normal']\n",
            " ['pre-presbyopic' 'hypermetrope' 'yes' 'reduced']\n",
            " ['presbyopic' 'myope' 'no' 'reduced']]\n"
          ]
        }
      ]
    }
  ]
}